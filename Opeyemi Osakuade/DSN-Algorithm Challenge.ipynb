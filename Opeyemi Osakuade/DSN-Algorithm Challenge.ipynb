{
 "cells": [
  {
   "cell_type": "markdown",
   "metadata": {},
   "source": [
    "### Design and develop the Logistic Regression algorithm from scratch using Python"
   ]
  },
  {
   "cell_type": "markdown",
   "metadata": {},
   "source": [
    "For a binary classifier, we want the classifier to output values that are between 0 and 1. \n",
    "i.e. $$0\\leq y_\\theta(x)\\leq1$$\n",
    "\n",
    "\n",
    "\n",
    "The term logistic regression refers to \"*logit function*\" which refers to \"*log odds*\".\n",
    "*Odds refers to the ratio of the probability of an event occuring to the probability it does not occur.*\n",
    "\n",
    "Consider a model with feature $x_{1}$, $x_{2}$,...,$x_{n}$ and output denoted by $y$ that can take values 0 and 1. Let **p** be the probability of **Y=1**\n",
    "$$\n",
    "odd =\\frac p{1-p}\n",
    "$$\n",
    "Taking the log, log odds for the model becomes\n",
    "$$\n",
    "log (\\frac p{1-p}) = \\theta_{0}x_{0} + \\theta_{1}x_{1}+ ... + \\theta_{n}x_{n}\n",
    "$$\n",
    "where $\\theta_{1},\\theta_{2} ... \\theta_{n}$ are weights, $\\theta_{0}x_{0} $ serves as intercept with $x_{0}$ = 1\n",
    "\n",
    "Simplifying the equation to obtain **p**\n",
    "$$\n",
    "p =\\frac 1{1+e^{-( \\theta_{0} + \\theta_{1}x_{1}+ ... + \\theta_{n}x_{n})}}\n",
    "$$ which turns out to be the equation of the *Sigmoid Function*\n",
    "$$\n",
    "S_{z} =\\frac 1{1+e^{-(z)}}\n",
    "$$\n",
    "\n",
    "With $z = \\theta_{0}x_{0} + \\theta_{1}x_{1}+ \\theta_{2}x_{2}+ ... + \\theta_{n}x_{n}$,\n",
    "\n"
   ]
  },
  {
   "cell_type": "code",
   "execution_count": 1,
   "metadata": {},
   "outputs": [],
   "source": [
    "def sigmoid(z):    \n",
    "    return 1/ (1 + np.exp(-z))"
   ]
  },
  {
   "cell_type": "markdown",
   "metadata": {},
   "source": [
    "### Cost function"
   ]
  },
  {
   "cell_type": "markdown",
   "metadata": {},
   "source": [
    "Since the logistic regression function(sigmoid) is *non linear*, to get a *convex function*, i.e a bowl-shaped function that eases the gradient descent function's work to converge to the optimal minimum point,a logistic regression cost function is derived as shown below\n",
    "\n",
    "\n",
    "\n",
    "$$h = \\frac 1{1+e^{-(\\theta^Tx)}} $$\n",
    "\n",
    " $$Cost(h,y)= \\left( \\begin{array}{c} -log(h)\\;\\;if\\;y =1 \\\\-log(1-h)\\;\\;if\\;y =0\\end{array}\\right) $$\n",
    " \n",
    " where $h$ is the prediction label while y is the actual label\n",
    "\n",
    "*Log of numbers between 0 and 1 returns a negative value. The negative sign before the log counters that.*\n",
    " \n",
    " Making the equation more compact into a one-line expression, we have:\n",
    "$$\n",
    " Cost(h,y)=-ylog(h)-((1-y)log(1-h)\n",
    "$$\n",
    "substituting y=1 or 0 respectively returns the previous equation\n",
    "\n",
    "With *m* as the size of my training set and *i* as ith training example\n",
    "\n",
    "The cost function $J(\\theta)$ can be rewritten as:\n",
    "$$J(\\theta)= \\frac1m\\sum \\limits _{i=1} ^{m}Cost(h,y)$$\n",
    "$$J(\\theta)= −\\frac1m\\sum \\limits _{i=1} ^{m}y^{(i)}log(h^{(i)})+((1-y^{(i)})log(1-h^{(i)}))$$"
   ]
  },
  {
   "cell_type": "code",
   "execution_count": 2,
   "metadata": {},
   "outputs": [],
   "source": [
    "def Cost_function(x,y,theta):\n",
    "    m = len(y)\n",
    "    y_pred = sigmoid(np.dot(x, theta))\n",
    "    error =(y * np.log(y_pred)) + ((1-y)* np.log(1-y_pred))\n",
    "    cost = -1 / m * sum(error)\n",
    "    gradient = 1 / m * np.dot(x.transpose(), (y_pred - y))\n",
    "    return cost , gradient"
   ]
  },
  {
   "cell_type": "markdown",
   "metadata": {},
   "source": [
    "### Gradient descent"
   ]
  },
  {
   "cell_type": "markdown",
   "metadata": {},
   "source": [
    "To choose the values of $\\theta$=$\\theta_{0}$,$\\theta_{1}$...$\\theta_{n}$ that corresponds to a convex function and fits the data well(so we reach a global minimum), ensure that $h = \\theta_{0} + \\theta_{1}x_{1}...\\theta_{n}x_{n}$is at least close to the actual $y$, minimize the cost function$J(\\theta)$ using gradient descent.\n",
    "\n",
    "Repeat until convergence, updating all $\\theta_j$:$\\left[ \\theta_{0},\\theta_{1},\\theta_{2}\\cdots,\\theta_{n}\\right] $$${\\theta_j}:=\\theta_j−\\alpha\\frac{\\partial}{\\partial \\theta_j}J(\\theta)\n",
    "$$\n",
    "where $\\alpha$ = Learning rate\n",
    "\n",
    "And partial deivative of cost function$J(\\theta)$ with respect to $\\theta$ :$$\n",
    "\\frac{\\partial}{\\partial \\theta_j}J(\\theta)=−\\frac1m\\sum \\limits _{i=1} ^{m}(h^{(i)}+y^{(i)})x^{(i)}_j\n",
    "$$"
   ]
  },
  {
   "cell_type": "code",
   "execution_count": 3,
   "metadata": {},
   "outputs": [],
   "source": [
    "def gradient_descent(x, y, theta, alpha, iterations):\n",
    "    costs = []\n",
    "    for i in range(iterations):\n",
    "        cost, gradient = Cost_function(x,y,theta)\n",
    "        theta -= (alpha * gradient)\n",
    "        costs.append(cost)\n",
    "    return theta, costs\n",
    "def predict(theta, x):\n",
    "    results = x.dot(theta)\n",
    "    return results > 0"
   ]
  },
  {
   "cell_type": "code",
   "execution_count": 4,
   "metadata": {},
   "outputs": [],
   "source": [
    "import numpy as np\n",
    "import matplotlib.pyplot as plt\n",
    "import seaborn as sns\n",
    "import pandas as pd\n",
    "plt.style.use(\"ggplot\")\n",
    "%matplotlib inline"
   ]
  },
  {
   "cell_type": "code",
   "execution_count": 5,
   "metadata": {},
   "outputs": [
    {
     "name": "stdout",
     "output_type": "stream",
     "text": [
      "Cost at initialization [0.69314718]\n",
      "Gradient at initialization: [[-0.1       ]\n",
      " [-0.28122914]\n",
      " [-0.25098615]]\n",
      "Theta after running gradient descent: [[1.50850586]\n",
      " [3.5468762 ]\n",
      " [3.29383709]]\n",
      "Resulting cost: [0.20489382]\n",
      "Training Accuracy: 89 %\n",
      "A person who scores 50 and 79 on their DMV written tests have a 0.71 probability of passing.\n"
     ]
    },
    {
     "data": {
      "image/png": "[encoded data removed]",
      "text/plain": [
       "<Figure size 432x288 with 1 Axes>"
      ]
     },
     "metadata": {
      "needs_background": "light"
     },
     "output_type": "display_data"
    }
   ],
   "source": [
    "data = pd.read_csv(\"DMV_Written_Tests.csv\")\n",
    "scores = data[['DMV_Test_1', 'DMV_Test_2']].values\n",
    "results = data['Results'].values\n",
    "#standardization\n",
    "mean_scores = np.mean(scores, axis=0)\n",
    "std_scores = np.std(scores, axis=0)\n",
    "scores = (scores - mean_scores) / std_scores\n",
    "\n",
    "num_iter = 200\n",
    "#include intercept\n",
    "rows = scores.shape[0]\n",
    "cols = scores.shape[1]\n",
    "\n",
    "X = np.append(np.ones((rows, 1)), scores, axis=1) \n",
    "y = results.reshape(rows, 1)\n",
    "\n",
    "#initialization\n",
    "theta_init = np.zeros((cols + 1, 1))\n",
    "cost, gradient = Cost_function(X, y,theta_init)\n",
    "\n",
    "print(\"Cost at initialization\", cost)\n",
    "print(\"Gradient at initialization:\", gradient)\n",
    "\n",
    "#Compute weights and cost function after running gradient descent\n",
    "theta, costs = gradient_descent(X, y, theta_init, 1, 200)\n",
    "print(\"Theta after running gradient descent:\", theta)\n",
    "print(\"Resulting cost:\", costs[-1])\n",
    "plt.plot(costs)\n",
    "plt.xlabel(\"Iterations\")\n",
    "plt.ylabel(\"$J(\\Theta)$\")\n",
    "plt.title(\"Values of Cost Function over iterations of Gradient Descent\")\n",
    "p = predict(theta, X)\n",
    "print(\"Training Accuracy:\", sum(p==y)[0],\"%\")\n",
    "\n",
    "#Test\n",
    "test = np.array([50,79])\n",
    "test = (test - mean_scores)/std_scores\n",
    "test = np.append(np.ones(1), test)\n",
    "probability = sigmoid(test.dot(theta))\n",
    "print(\"A person who scores 50 and 79 on their DMV written tests have a\",\n",
    "      np.round(probability[0], 2),\"probability of passing.\")"
   ]
  },
  {
   "cell_type": "markdown",
   "metadata": {},
   "source": [
    "### Plotting the decision boundary"
   ]
  },
  {
   "cell_type": "markdown",
   "metadata": {},
   "source": [
    "$h_\\theta(x) = \\sigma(z)$, where $\\sigma$ is the logistic sigmoid function and $z = \\theta^Tx$\n",
    "\n",
    "When $h_\\theta(x) \\geq 0.5$ the model predicts class \"1\":\n",
    "\n",
    "$\\implies \\sigma(\\theta^Tx) \\geq 0.5$\n",
    "\n",
    "$\\implies \\theta^Tx \\geq 0$ predict class \"1\" \n",
    "\n",
    "Hence, $\\theta_1 + \\theta_2x_2 + \\theta_3x_3 = 0$ is the equation for the decision boundary, giving us \n",
    "\n",
    "$ x_3 = \\frac{-(\\theta_1+\\theta_2x_2)}{\\theta_3}$"
   ]
  },
  {
   "cell_type": "code",
   "execution_count": 6,
   "metadata": {},
   "outputs": [
    {
     "data": {
      "image/png": "[encoded data removed]",
      "text/plain": [
       "<Figure size 432x288 with 1 Axes>"
      ]
     },
     "metadata": {
      "needs_background": "light"
     },
     "output_type": "display_data"
    }
   ],
   "source": [
    "passed = (results == 1).reshape(100, 1)\n",
    "failed = (results == 0).reshape(100, 1)\n",
    "sns.scatterplot(x = X[passed[:, 0], 1],\n",
    "                y = X[passed[:, 0], 2],\n",
    "                marker = \"^\",\n",
    "                color = \"green\",\n",
    "                s = 60)\n",
    "ax = sns.scatterplot(x = X[failed[:, 0], 1],\n",
    "                    y = X[failed[:, 0], 2],\n",
    "                    marker = \"X\",\n",
    "                    color = \"red\",\n",
    "                    s = 60)\n",
    "\n",
    "ax.legend([\"Passed\", \"Failed\"])\n",
    "ax.set(xlabel=\"DMV Written Test 1 Scores\", ylabel=\"DMV Written Test 2 Scores\")\n",
    "\n",
    "x_boundary = np.array([np.min(X[:, 1]), np.max(X[:, 1])])\n",
    "y_boundary = -(theta[0] + theta[1] * x_boundary) / theta[2]\n",
    "\n",
    "sns.lineplot(x = x_boundary, y = y_boundary, color=\"blue\")\n",
    "plt.show();"
   ]
  },
  {
   "cell_type": "code",
   "execution_count": null,
   "metadata": {},
   "outputs": [],
   "source": []
  }
 ],
 "metadata": {
  "kernelspec": {
   "display_name": "Python 3",
   "language": "python",
   "name": "python3"
  },
  "language_info": {
   "codemirror_mode": {
    "name": "ipython",
    "version": 3
   },
   "file_extension": ".py",
   "mimetype": "text/x-python",
   "name": "python",
   "nbconvert_exporter": "python",
   "pygments_lexer": "ipython3",
   "version": "3.7.3"
  }
 },
 "nbformat": 4,
 "nbformat_minor": 4
}
